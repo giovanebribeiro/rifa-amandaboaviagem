{
 "cells": [
  {
   "cell_type": "code",
   "execution_count": 2,
   "metadata": {},
   "outputs": [],
   "source": [
    "import send_mail\n",
    "\n",
    "send_mail.send(to=\"giovane@boaviagemribeiro.com\", to_name=\"Giovane\", number=42)"
   ]
  }
 ],
 "metadata": {
  "interpreter": {
   "hash": "83dfdaabb27a9c3047b58326637ebde51001855992c8af2c97a145b2d2d15853"
  },
  "kernelspec": {
   "display_name": "Python 3.7.10 64-bit ('.venv': pipenv)",
   "language": "python",
   "name": "python3"
  },
  "language_info": {
   "codemirror_mode": {
    "name": "ipython",
    "version": 3
   },
   "file_extension": ".py",
   "mimetype": "text/x-python",
   "name": "python",
   "nbconvert_exporter": "python",
   "pygments_lexer": "ipython3",
   "version": "3.7.10"
  },
  "orig_nbformat": 4
 },
 "nbformat": 4,
 "nbformat_minor": 2
}
